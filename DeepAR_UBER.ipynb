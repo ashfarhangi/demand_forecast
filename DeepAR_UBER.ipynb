{
  "nbformat": 4,
  "nbformat_minor": 0,
  "metadata": {
    "colab": {
      "name": "DeepAR_UBER_.ipynb",
      "provenance": [],
      "collapsed_sections": [],
      "authorship_tag": "ABX9TyNfl0+rDPyKUwPtO4UGBZKj",
      "include_colab_link": true
    },
    "kernelspec": {
      "name": "python3",
      "display_name": "Python 3"
    }
  },
  "cells": [
    {
      "cell_type": "markdown",
      "metadata": {
        "id": "view-in-github",
        "colab_type": "text"
      },
      "source": [
        "<a href=\"https://colab.research.google.com/github/ashfarhangi/demand_forecast/blob/master/DeepAR_UBER.ipynb\" target=\"_parent\"><img src=\"https://colab.research.google.com/assets/colab-badge.svg\" alt=\"Open In Colab\"/></a>"
      ]
    },
    {
      "cell_type": "code",
      "metadata": {
        "colab": {
          "base_uri": "https://localhost:8080/"
        },
        "id": "vjRXpH_bUGVP",
        "outputId": "61f2a199-c95d-4abc-8656-f3c945bdc99b"
      },
      "source": [
        "#MT-200 electicty is being tests\r\n",
        "!git clone https://github.com/ashfarhangi/demand_forecast.git\r\n",
        "%cd demand_forecast/\r\n",
        "!pip install -qq -r requirements.txt"
      ],
      "execution_count": 1,
      "outputs": [
        {
          "output_type": "stream",
          "text": [
            "fatal: destination path 'demand_forecast' already exists and is not an empty directory.\n",
            "/content/demand_forecast\n"
          ],
          "name": "stdout"
        }
      ]
    },
    {
      "cell_type": "code",
      "metadata": {
        "id": "LzE6XsfVUniD"
      },
      "source": [
        "# Arguments\tDetails\r\n",
        "# -e\tnumber of episodes\r\n",
        "# -spe\tsteps per episode\r\n",
        "# -sl\tsequence length\r\n",
        "# -not\tnumber of observations to train\r\n",
        "# -ms\tmean scaler on y\r\n",
        "# -max\tmax scaler on y\r\n",
        "# -nl\tnumber of layers\r\n",
        "# -l\tlikelihood to select, \"g\" or \"nb\"\r\n",
        "# -rt\trun test data\r\n",
        "# -sample_size\tsample size to sample after\r\n",
        "# training in deep factors/deepar, default 100"
      ],
      "execution_count": null,
      "outputs": []
    },
    {
      "cell_type": "code",
      "metadata": {
        "colab": {
          "base_uri": "https://localhost:8080/"
        },
        "id": "yliXxSbJUaAM",
        "outputId": "7c6dc2a4-f3d1-4f14-ea66-2346a16034c1"
      },
      "source": [
        "!python deepar.py -e 1 -spe 3 -nl 1 -l g -not 168 -sp -rt -es 10 -hs 50  -sl 60 -ms\r\n"
      ],
      "execution_count": 2,
      "outputs": [
        {
          "output_type": "stream",
          "text": [
            "deepar.py:333: FutureWarning: Comparing Series of datetimes with 'datetime.date'.  Currently, the\n",
            "'datetime.date' is coerced to a datetime. In the future pandas will\n",
            "not coerce, and a TypeError will be raised. To retain the current\n",
            "behavior, convert the 'datetime.date' to a datetime with\n",
            "'pd.Timestamp'.\n",
            "  data = data.loc[(data[\"date\"] >= date(2014, 1, 1)) & (data[\"date\"] <= date(2014, 3, 1))]\n",
            "100% ||\n",
            "100% 100/100 [00:10<00:00,  9.44it/s]\n",
            "P50 MAPE: 0.9017109976623218\n",
            "<Figure size 2000x500 with 1 Axes>\n",
            "<Figure size 640x480 with 1 Axes>\n"
          ],
          "name": "stdout"
        }
      ]
    },
    {
      "cell_type": "code",
      "metadata": {
        "colab": {
          "base_uri": "https://localhost:8080/"
        },
        "id": "yKhiGmm0WRMJ",
        "outputId": "a31ef3da-d9f6-4021-cc94-85623ca5bd5d"
      },
      "source": [
        "!python uber_extreme_event_forecaster.py -e 100 -spe 2 -b 256"
      ],
      "execution_count": 11,
      "outputs": [
        {
          "output_type": "stream",
          "text": [
            "uber_extreme_event_forecaster.py:231: FutureWarning: Comparing Series of datetimes with 'datetime.date'.  Currently, the\n",
            "'datetime.date' is coerced to a datetime. In the future pandas will\n",
            "not coerce, and a TypeError will be raised. To retain the current\n",
            "behavior, convert the 'datetime.date' to a datetime with\n",
            "'pd.Timestamp'.\n",
            "  data = data.loc[(data[\"date\"] >= date(2014, 1, 1)) & (data[\"date\"] <= date(2014, 3, 1))]\n",
            "  0% ||\ruber_extreme_event_forecaster.py:172: UserWarning: Using a target size (torch.Size([1, 7])) that is different to the input size (torch.Size([1, 7, 1])). This will likely lead to incorrect results due to broadcasting. Please ensure they have the same size.\n",
            "  loss = F.mse_loss(ypred, yf)\n",
            "100% ||\n",
            "MAPE: 0.9885766292880253\n"
          ],
          "name": "stdout"
        }
      ]
    }
  ]
}